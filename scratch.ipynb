{
 "cells": [
  {
   "cell_type": "markdown",
   "metadata": {},
   "source": [
    "Importing packages"
   ]
  },
  {
   "cell_type": "code",
   "execution_count": 1,
   "metadata": {},
   "outputs": [],
   "source": [
    "import pandas as pd"
   ]
  },
  {
   "cell_type": "markdown",
   "metadata": {},
   "source": [
    "Reading in the CSVs"
   ]
  },
  {
   "cell_type": "code",
   "execution_count": 2,
   "metadata": {},
   "outputs": [],
   "source": [
    "full_moon = pd.read_csv(\"full_moon.csv\")\n",
    "holidays = pd.read_csv(\"holidays.csv\")\n",
    "weather = pd.read_csv(\"weather.csv\")\n",
    "crimes = pd.read_csv(\"Crimes.csv\")"
   ]
  },
  {
   "cell_type": "markdown",
   "metadata": {},
   "source": [
    "Recoding all the date columns to same format"
   ]
  },
  {
   "cell_type": "code",
   "execution_count": 3,
   "metadata": {},
   "outputs": [],
   "source": [
    "## First, full_moon.csv\n",
    "\n",
    "### Convert FullMoonDates column to datetime objects\n",
    "full_moon['FullMoonDates'] = pd.to_datetime(full_moon['FullMoonDates'], format='%d %B %Y')\n",
    "\n",
    "### Format the dates as 'YYYY-MM-DD' and assign them to a new column\n",
    "full_moon['use_date'] = full_moon['FullMoonDates'].dt.strftime('%Y-%m-%d')\n",
    "\n",
    "# Save the updated DataFrame back to the same CSV file, overwriting the original file\n",
    "full_moon.to_csv(\"full_moon.csv\", index=False)\n",
    "\n",
    "\n",
    "## Next, holidays.csv\n",
    "\n",
    "### Date column already in correct format, just want to change the name to use_date for consistency.\n",
    "holidays.rename(columns={'Date': 'use_date'}, inplace=True)\n",
    "\n",
    "# Save the updated DataFrame back to the same CSV file, overwriting the original file\n",
    "holidays.to_csv(\"holidays.csv\", index=False)\n",
    "\n",
    "\n",
    "## Next, weather.csv\n",
    "\n",
    "### Same situation as holidays.csv\n",
    "weather.rename(columns={'datetime': 'use_date'}, inplace=True)\n",
    "\n",
    "### Save the updated DataFrame back to the same CSV file, overwriting the original file\n",
    "weather.to_csv(\"weather.csv\", index=False)\n",
    "\n",
    "\n",
    "## Now for Crimes.csv\n",
    "\n",
    "### Convert the 'Date' column to datetime objects\n",
    "crimes['Date'] = pd.to_datetime(crimes['Date'])\n",
    "\n",
    "### Create new columns for 'use_date' and 'use_time'\n",
    "crimes['use_date'] = crimes['Date'].dt.strftime('%Y-%m-%d')\n",
    "crimes['use_time'] = crimes['Date'].dt.strftime('%H:%M:%S')\n",
    "\n",
    "### Save the updated DataFrame back to the same CSV file, overwriting the original file\n",
    "crimes.to_csv(\"Crimes.csv\", index=False)"
   ]
  }
 ],
 "metadata": {
  "kernelspec": {
   "display_name": "Python 3",
   "language": "python",
   "name": "python3"
  },
  "language_info": {
   "codemirror_mode": {
    "name": "ipython",
    "version": 3
   },
   "file_extension": ".py",
   "mimetype": "text/x-python",
   "name": "python",
   "nbconvert_exporter": "python",
   "pygments_lexer": "ipython3",
   "version": "3.12.2"
  }
 },
 "nbformat": 4,
 "nbformat_minor": 2
}
